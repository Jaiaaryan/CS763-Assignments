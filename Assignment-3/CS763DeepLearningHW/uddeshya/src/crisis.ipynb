{
 "cells": [
  {
   "cell_type": "code",
   "execution_count": 1,
   "metadata": {},
   "outputs": [
    {
     "name": "stdout",
     "output_type": "stream",
     "text": [
      "loaded data\n"
     ]
    }
   ],
   "source": [
    "import torch \n",
    "from DataLoader import *\n",
    "from imports import *\n",
    "lpath = '../Data/labels.bin'\n",
    "dpath = '../Data/data.bin'\n",
    "batch_sz = 200\n",
    "dl = DataLoader(lpath, dpath, batch_sz)\n",
    "gen_d = dl.get_batch()\n",
    "print('loaded data')"
   ]
  },
  {
   "cell_type": "code",
   "execution_count": 2,
   "metadata": {},
   "outputs": [],
   "source": [
    "model = Model()\n",
    "model.addLayer(Linear(108*108, 200))\n",
    "model.addLayer(ReLU())\n",
    "model.addLayer(Linear(200, 6))"
   ]
  },
  {
   "cell_type": "code",
   "execution_count": 3,
   "metadata": {},
   "outputs": [],
   "source": [
    "lossClass = Criterion()\n",
    "learningRate = 1e-4"
   ]
  },
  {
   "cell_type": "code",
   "execution_count": 9,
   "metadata": {},
   "outputs": [
    {
     "name": "stdout",
     "output_type": "stream",
     "text": [
      "training started...\n",
      "0 2.3911156107485296\n",
      "3 2.3335040959715845\n",
      "6 2.4959164690598845\n",
      "9 2.3752664911746977\n"
     ]
    }
   ],
   "source": [
    "def train(iterations, whenToPrint):\n",
    "    print('training started...')\n",
    "    global learningRate\n",
    "    global model, gen_d, dl\n",
    "    for i in range(iterations):\n",
    "        # indices = (torch.randperm(dataSize)[:batchSize]).numpy()\n",
    "        # currentData = data[indices, :]\n",
    "        # currentLabels = labels.view(dataSize, 1)[indices, :]\n",
    "\n",
    "        currentData, currentLabels = next(gen_d)\n",
    "        #print('dbg1')\n",
    "        #print(currentData)\n",
    "        yPred = model.forward(currentData)\n",
    "        #print(yPred)\n",
    "        lossGrad, loss = lossClass.backward(yPred, currentLabels)\n",
    "        #print(lossGrad, loss)\n",
    "        if i%whenToPrint == 0:\n",
    "            print(i, loss)\n",
    "            #losses.append(loss)\n",
    "            #plotIndices.append(plotIndex)\n",
    "        model.clearGradParam()\n",
    "        model.backward(currentData, lossGrad)\n",
    "        for layer in model.Layers:\n",
    "            if layer.isTrainable:\n",
    "                layer.weight -= learningRate*layer.gradWeight\n",
    "                layer.bias -= learningRate*layer.gradBias\n",
    "        #plotIndex += 1\n",
    "\n",
    "train(10, 3)"
   ]
  }
 ],
 "metadata": {
  "kernelspec": {
   "display_name": "Python 3",
   "language": "python",
   "name": "python3"
  },
  "language_info": {
   "codemirror_mode": {
    "name": "ipython",
    "version": 3
   },
   "file_extension": ".py",
   "mimetype": "text/x-python",
   "name": "python",
   "nbconvert_exporter": "python",
   "pygments_lexer": "ipython3",
   "version": "3.5.4"
  }
 },
 "nbformat": 4,
 "nbformat_minor": 2
}
