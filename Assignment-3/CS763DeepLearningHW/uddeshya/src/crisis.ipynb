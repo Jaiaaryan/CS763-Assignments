{
 "cells": [
  {
   "cell_type": "code",
   "execution_count": 1,
   "metadata": {},
   "outputs": [
    {
     "name": "stdout",
     "output_type": "stream",
     "text": [
      "loaded data\n"
     ]
    }
   ],
   "source": [
    "import torch \n",
    "from DataLoader import *\n",
    "from imports import *\n",
    "lpath = '../Data/labels.bin'\n",
    "dpath = '../Data/data.bin'\n",
    "batch_sz = 200\n",
    "dl = DataLoader(lpath, dpath, batch_sz)\n",
    "gen_d = dl.get_batch()\n",
    "print('loaded data')"
   ]
  },
  {
   "cell_type": "code",
   "execution_count": 2,
   "metadata": {},
   "outputs": [],
   "source": [
    "model = Model()\n",
    "model.addLayer(Linear(108*108, 200))\n",
    "model.addLayer(ReLU())\n",
    "model.addLayer(Linear(200, 6))"
   ]
  },
  {
   "cell_type": "code",
   "execution_count": 3,
   "metadata": {},
   "outputs": [],
   "source": [
    "lossClass = Criterion()\n",
    "learningRate = 1e-4"
   ]
  },
  {
   "cell_type": "code",
   "execution_count": 9,
   "metadata": {},
   "outputs": [
    {
     "name": "stdout",
     "output_type": "stream",
     "text": [
      "training started...\n",
      "0 2.3911156107485296\n",
      "3 2.3335040959715845\n",
      "6 2.4959164690598845\n",
      "9 2.3752664911746977\n"
     ]
    }
   ],
   "source": [
    "def train(iterations, whenToPrint):\n",
    "    print('training started...')\n",
    "    global learningRate\n",
    "    global model, gen_d, dl\n",
    "    for i in range(iterations):\n",
    "        # indices = (torch.randperm(dataSize)[:batchSize]).numpy()\n",
    "        # currentData = data[indices, :]\n",
    "        # currentLabels = labels.view(dataSize, 1)[indices, :]\n",
    "\n",
    "        currentData, currentLabels = next(gen_d)\n",
    "        #print('dbg1')\n",
    "        #print(currentData)\n",
    "        yPred = model.forward(currentData)\n",
    "        #print(yPred)\n",
    "        lossGrad, loss = lossClass.backward(yPred, currentLabels)\n",
    "        #print(lossGrad, loss)\n",
    "        if i%whenToPrint == 0:\n",
    "            print(i, loss)\n",
    "            #losses.append(loss)\n",
    "            #plotIndices.append(plotIndex)\n",
    "        model.clearGradParam()\n",
    "        model.backward(currentData, lossGrad)\n",
    "        for layer in model.Layers:\n",
    "            if layer.isTrainable:\n",
    "                layer.weight -= learningRate*layer.gradWeight\n",
    "                layer.bias -= learningRate*layer.gradBias\n",
    "        #plotIndex += 1\n",
    "\n",
    "train(10, 3)"
   ]
  },
  {
   "cell_type": "code",
   "execution_count": 7,
   "metadata": {},
   "outputs": [
    {
     "name": "stdout",
     "output_type": "stream",
     "text": [
      "trainer initialised\n",
      "===========> starting epoch: 0, validation_accuracy:0.17, training_accuracy:0.176\n",
      "\n",
      "epoch:0, iter:0, loss:2.925842607393861\n",
      "epoch:0, iter:3, loss:2.787736643217504\n",
      "epoch:0, iter:6, loss:2.762809507455677\n",
      "epoch:0, iter:9, loss:2.6576247408613565\n",
      "epoch:0, iter:12, loss:2.6845895195752383\n",
      "epoch:0, iter:15, loss:2.6638384978612883\n",
      "epoch:0, iter:18, loss:2.9065154745988546\n",
      "epoch:0, iter:21, loss:3.024130993038416\n",
      "epoch:0, iter:24, loss:2.8154935830459\n",
      "epoch:0, iter:27, loss:2.8689621326327326\n",
      "===========> starting epoch: 1, validation_accuracy:0.167, training_accuracy:0.177\n",
      "\n",
      "epoch:1, iter:0, loss:2.759216454178095\n",
      "epoch:1, iter:3, loss:2.843825200796127\n",
      "epoch:1, iter:6, loss:2.846572382338345\n",
      "epoch:1, iter:9, loss:2.65697804722935\n",
      "epoch:1, iter:12, loss:2.6983076307177543\n",
      "epoch:1, iter:15, loss:2.699804811179638\n",
      "epoch:1, iter:18, loss:2.7943313527479767\n",
      "epoch:1, iter:21, loss:2.793525220826268\n",
      "epoch:1, iter:24, loss:2.7464169120974837\n",
      "epoch:1, iter:27, loss:2.655991964004934\n",
      "===========> starting epoch: 2, validation_accuracy:0.171, training_accuracy:0.16299999999999998\n",
      "\n",
      "epoch:2, iter:0, loss:2.7178148952499033\n",
      "epoch:2, iter:3, loss:2.4507915118709205\n",
      "epoch:2, iter:6, loss:2.739888423876837\n",
      "epoch:2, iter:9, loss:2.790964090824127\n",
      "epoch:2, iter:12, loss:2.557115198969841\n",
      "epoch:2, iter:15, loss:2.6577138463035226\n",
      "epoch:2, iter:18, loss:2.6106155558675526\n",
      "epoch:2, iter:21, loss:2.7151241234503685\n",
      "epoch:2, iter:24, loss:2.6750676723569633\n",
      "epoch:2, iter:27, loss:2.617796601410955\n",
      "===========> starting epoch: 3, validation_accuracy:0.176, training_accuracy:0.18250000000000002\n",
      "\n",
      "epoch:3, iter:0, loss:2.5634590340591967\n",
      "epoch:3, iter:3, loss:2.646598989292979\n",
      "epoch:3, iter:6, loss:2.6577789267897605\n",
      "epoch:3, iter:9, loss:2.657016205927357\n",
      "epoch:3, iter:12, loss:2.629819381888956\n",
      "epoch:3, iter:15, loss:2.6170535317808388\n",
      "epoch:3, iter:18, loss:2.5608910349011422\n",
      "epoch:3, iter:21, loss:2.602282090857625\n",
      "epoch:3, iter:24, loss:2.5703359469771385\n",
      "epoch:3, iter:27, loss:2.6753638799116017\n",
      "===========> starting epoch: 4, validation_accuracy:0.177, training_accuracy:0.1825\n",
      "\n",
      "epoch:4, iter:0, loss:2.530906622670591\n",
      "epoch:4, iter:3, loss:2.438876786278561\n",
      "epoch:4, iter:6, loss:2.589238358959556\n",
      "epoch:4, iter:9, loss:2.6710953266872095\n",
      "epoch:4, iter:12, loss:2.4800154729932546\n",
      "epoch:4, iter:15, loss:2.532386784255505\n",
      "epoch:4, iter:18, loss:2.5213284961506726\n",
      "epoch:4, iter:21, loss:2.565883953347802\n",
      "epoch:4, iter:24, loss:2.2845726770628243\n",
      "epoch:4, iter:27, loss:2.6371382556296883\n",
      "===========> starting epoch: 5, validation_accuracy:0.174, training_accuracy:0.1765\n",
      "\n",
      "epoch:5, iter:0, loss:2.4123301547113805\n",
      "epoch:5, iter:3, loss:2.7995976051315665\n",
      "epoch:5, iter:6, loss:2.4915903647989035\n",
      "epoch:5, iter:9, loss:2.5497497402876617\n",
      "epoch:5, iter:12, loss:2.6840600039064886\n",
      "epoch:5, iter:15, loss:2.4742456629127263\n",
      "epoch:5, iter:18, loss:2.600079041495919\n",
      "epoch:5, iter:21, loss:2.678758308812976\n",
      "epoch:5, iter:24, loss:2.5168600307404994\n",
      "epoch:5, iter:27, loss:2.676900141984224\n",
      "===========> starting epoch: 6, validation_accuracy:0.185, training_accuracy:0.18150000000000002\n",
      "\n",
      "epoch:6, iter:0, loss:2.425536578781903\n",
      "epoch:6, iter:3, loss:2.4435653250478206\n",
      "epoch:6, iter:6, loss:2.509265514034778\n",
      "epoch:6, iter:9, loss:2.547062614187598\n",
      "epoch:6, iter:12, loss:2.4232683262601493\n",
      "epoch:6, iter:15, loss:2.650933485664427\n",
      "epoch:6, iter:18, loss:2.5464772799797357\n",
      "epoch:6, iter:21, loss:2.660059714913368\n",
      "epoch:6, iter:24, loss:2.430990532711148\n",
      "epoch:6, iter:27, loss:2.526662573069334\n",
      "===========> starting epoch: 7, validation_accuracy:0.186, training_accuracy:0.19150000000000003\n",
      "\n",
      "epoch:7, iter:0, loss:2.5470497127994896\n",
      "epoch:7, iter:3, loss:2.4795792078971863\n",
      "epoch:7, iter:6, loss:2.3866891589947046\n",
      "epoch:7, iter:9, loss:2.3747986964136363\n",
      "epoch:7, iter:12, loss:2.493513651043177\n",
      "epoch:7, iter:15, loss:2.4352974765747786\n",
      "epoch:7, iter:18, loss:2.2910717251896857\n",
      "epoch:7, iter:21, loss:2.570158158428967\n",
      "epoch:7, iter:24, loss:2.480445254612714\n",
      "epoch:7, iter:27, loss:2.393685095142573\n",
      "===========> starting epoch: 8, validation_accuracy:0.19, training_accuracy:0.197\n",
      "\n",
      "epoch:8, iter:0, loss:2.5198864465393127\n",
      "epoch:8, iter:3, loss:2.5831757482141255\n",
      "epoch:8, iter:6, loss:2.5453721937164664\n",
      "epoch:8, iter:9, loss:2.3988990123942493\n",
      "epoch:8, iter:12, loss:2.5629944626986982\n",
      "epoch:8, iter:15, loss:2.672696296200156\n",
      "epoch:8, iter:18, loss:2.5892814059928058\n",
      "epoch:8, iter:21, loss:2.3501449918746946\n",
      "epoch:8, iter:24, loss:2.446341748461127\n",
      "epoch:8, iter:27, loss:2.346305706501007\n",
      "===========> starting epoch: 9, validation_accuracy:0.187, training_accuracy:0.2015\n",
      "\n",
      "epoch:9, iter:0, loss:2.623826093748212\n",
      "epoch:9, iter:3, loss:2.6387788469344375\n",
      "epoch:9, iter:6, loss:2.6208979964256285\n",
      "epoch:9, iter:9, loss:2.5161901999264957\n",
      "epoch:9, iter:12, loss:2.3236691689491273\n",
      "epoch:9, iter:15, loss:2.4869119187630715\n",
      "epoch:9, iter:18, loss:2.4241675247251986\n",
      "epoch:9, iter:21, loss:2.64852261506021\n",
      "epoch:9, iter:24, loss:2.373791522569954\n",
      "epoch:9, iter:27, loss:2.347336270865053\n"
     ]
    }
   ],
   "source": [
    "from Trainer import *\n",
    "trainer = Trainer(model, dl, gen_d)\n",
    "trainer.train(n_epoch=10, n_iter=30, rec_interval=3, step_interval=2, l_rate=learningRate, lossClass=lossClass)"
   ]
  },
  {
   "cell_type": "code",
   "execution_count": 5,
   "metadata": {},
   "outputs": [
    {
     "data": {
      "text/plain": [
       "0.15000000000000002"
      ]
     },
     "execution_count": 5,
     "metadata": {},
     "output_type": "execute_result"
    }
   ],
   "source": [
    "trainer.training_accuracy()"
   ]
  },
  {
   "cell_type": "code",
   "execution_count": 6,
   "metadata": {},
   "outputs": [
    {
     "data": {
      "text/plain": [
       "0.146"
      ]
     },
     "execution_count": 6,
     "metadata": {},
     "output_type": "execute_result"
    }
   ],
   "source": [
    "trainer.validation_accuracy()"
   ]
  },
  {
   "cell_type": "code",
   "execution_count": 8,
   "metadata": {},
   "outputs": [
    {
     "data": {
      "text/plain": [
       "[0, 2, 4, 6, 8]"
      ]
     },
     "execution_count": 8,
     "metadata": {},
     "output_type": "execute_result"
    }
   ],
   "source": [
    "trainer.step_record"
   ]
  },
  {
   "cell_type": "code",
   "execution_count": 8,
   "metadata": {},
   "outputs": [
    {
     "data": {
      "image/png": "[encoded data removed]",
      "text/plain": [
       "<matplotlib.figure.Figure at 0x7f496c74c470>"
      ]
     },
     "metadata": {},
     "output_type": "display_data"
    }
   ],
   "source": [
    "trainer.plot_accuracy()"
   ]
  },
  {
   "cell_type": "code",
   "execution_count": 9,
   "metadata": {},
   "outputs": [
    {
     "data": {
      "image/png": "[encoded data removed]",
      "text/plain": [
       "<matplotlib.figure.Figure at 0x7f496c6ccba8>"
      ]
     },
     "metadata": {},
     "output_type": "display_data"
    }
   ],
   "source": [
    "trainer.plot_loss()"
   ]
  }
 ],
 "metadata": {
  "kernelspec": {
   "display_name": "Python 3",
   "language": "python",
   "name": "python3"
  },
  "language_info": {
   "codemirror_mode": {
    "name": "ipython",
    "version": 3
   },
   "file_extension": ".py",
   "mimetype": "text/x-python",
   "name": "python",
   "nbconvert_exporter": "python",
   "pygments_lexer": "ipython3",
   "version": "3.5.4"
  }
 },
 "nbformat": 4,
 "nbformat_minor": 2
}
